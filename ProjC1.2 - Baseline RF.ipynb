{
 "cells": [
  {
   "cell_type": "markdown",
   "metadata": {
    "id": "bHw2XgHzmQhX",
    "nbgrader": {
     "grade": false,
     "locked": true,
     "solution": false
    }
   },
   "source": [
    "## Creating a Baseline using RF\n",
    "\n",
    "This script will walk you through the creating of a baseline model for the data."
   ]
  },
  {
   "cell_type": "code",
   "execution_count": null,
   "metadata": {
    "colab": {
     "base_uri": "https://localhost:8080/"
    },
    "executionInfo": {
     "elapsed": 1843,
     "status": "ok",
     "timestamp": 1711034777901,
     "user": {
      "displayName": "Edgar Lobaton",
      "userId": "02856608958118334478"
     },
     "user_tz": 240
    },
    "id": "lM2Ii3T1mQha",
    "nbgrader": {
     "grade": false,
     "locked": true,
     "solution": false
    },
    "outputId": "2c78b9ec-e84d-4e56-c8a6-3f95e67da126"
   },
   "outputs": [],
   "source": [
    "import numpy as np\n",
    "import importlib\n",
    "import fncs_helper as fncs\n",
    "import matplotlib.pyplot as plt\n",
    "import random\n",
    "\n",
    "importlib.reload(fncs)\n",
    "\n",
    "import json\n",
    "with open('Settings.json') as f:\n",
    "    d = json.load(f)\n",
    "    dataFolder = d['dataFolder']"
   ]
  },
  {
   "cell_type": "markdown",
   "metadata": {
    "id": "heZK31KGmQhc",
    "nbgrader": {
     "grade": false,
     "locked": true,
     "solution": false
    }
   },
   "source": [
    "### Loading the Data and Features\n",
    "\n",
    "First, we define a helper function to load the data and compute the features. Take a look at how the labels are extracted by following a similar procedure for window extraction and assigning the mode."
   ]
  },
  {
   "cell_type": "markdown",
   "metadata": {
    "nbgrader": {
     "grade": false,
     "locked": true,
     "solution": false
    }
   },
   "source": [
    "Extracting the features for the training data and splitting it into training / validation."
   ]
  },
  {
   "cell_type": "code",
   "execution_count": null,
   "metadata": {
    "executionInfo": {
     "elapsed": 75965,
     "status": "ok",
     "timestamp": 1711034858184,
     "user": {
      "displayName": "Edgar Lobaton",
      "userId": "02856608958118334478"
     },
     "user_tz": 240
    },
    "id": "wKG6uX6tmQhc",
    "nbgrader": {
     "grade": false,
     "locked": true,
     "solution": false
    }
   },
   "outputs": [],
   "source": [
    "# Specifying the data directory\n",
    "dirTrain = dataFolder + 'Train/'\n",
    "\n",
    "# Specifying some parameters for the feature extraction\n",
    "timeStep = 1\n",
    "winSz = 2\n",
    "\n",
    "# Specifying IDs for training and validation sets\n",
    "valIDs = [2,11,25]\n",
    "trainIDs = list(set(np.array(range(25))+1).difference(valIDs))\n",
    "\n",
    "# Recovering the features and labels\n",
    "xTrain, yTrain = fncs.loadFeatures(dirTrain,winSz,timeStep,trainIDs)\n",
    "xVal, yVal = fncs.loadFeatures(dirTrain,winSz,timeStep,valIDs)"
   ]
  },
  {
   "cell_type": "markdown",
   "metadata": {
    "nbgrader": {
     "grade": false,
     "locked": true,
     "solution": false
    }
   },
   "source": [
    "### Training an RF Classifier\n",
    "\n",
    "An RF will be one of the models that we will consider as a baseline. Let us begin by defining and training the model."
   ]
  },
  {
   "cell_type": "code",
   "execution_count": null,
   "metadata": {
    "colab": {
     "base_uri": "https://localhost:8080/",
     "height": 74
    },
    "executionInfo": {
     "elapsed": 23446,
     "status": "ok",
     "timestamp": 1711034881628,
     "user": {
      "displayName": "Edgar Lobaton",
      "userId": "02856608958118334478"
     },
     "user_tz": 240
    },
    "id": "nNe8pX7EmQhc",
    "nbgrader": {
     "grade": false,
     "locked": true,
     "solution": false
    },
    "outputId": "b8134018-985f-49c2-a6fc-a31bf701fa5a"
   },
   "outputs": [],
   "source": [
    "from sklearn.ensemble import RandomForestClassifier\n",
    "\n",
    "# Defining the model using default parameters\n",
    "M_RF = RandomForestClassifier()\n",
    "\n",
    "# Training the model\n",
    "M_RF.fit(xTrain,yTrain)"
   ]
  },
  {
   "cell_type": "markdown",
   "metadata": {
    "nbgrader": {
     "grade": false,
     "locked": true,
     "solution": false
    }
   },
   "source": [
    "Performance of predictions using the training and validation set."
   ]
  },
  {
   "cell_type": "code",
   "execution_count": null,
   "metadata": {
    "colab": {
     "base_uri": "https://localhost:8080/"
    },
    "executionInfo": {
     "elapsed": 1581,
     "status": "ok",
     "timestamp": 1711034883207,
     "user": {
      "displayName": "Edgar Lobaton",
      "userId": "02856608958118334478"
     },
     "user_tz": 240
    },
    "id": "zCISpYPHmQhd",
    "nbgrader": {
     "grade": false,
     "locked": true,
     "solution": false
    },
    "outputId": "47760dc0-f808-462d-d71a-cc72fd62de83"
   },
   "outputs": [],
   "source": [
    "yTrainHat = M_RF.predict(xTrain)\n",
    "yValHat = M_RF.predict(xVal)\n",
    "\n",
    "print('Results for Validation:\\n')\n",
    "fncs.summaryPerf(yTrain,yTrainHat,yVal,yValHat)"
   ]
  }
 ],
 "metadata": {
  "accelerator": "GPU",
  "colab": {
   "gpuType": "T4",
   "provenance": []
  },
  "kernelspec": {
   "display_name": "Python 3",
   "language": "python",
   "name": "python3"
  },
  "language_info": {
   "codemirror_mode": {
    "name": "ipython",
    "version": 3
   },
   "file_extension": ".py",
   "mimetype": "text/x-python",
   "name": "python",
   "nbconvert_exporter": "python",
   "pygments_lexer": "ipython3",
   "version": "3.11.9"
  }
 },
 "nbformat": 4,
 "nbformat_minor": 1
}
