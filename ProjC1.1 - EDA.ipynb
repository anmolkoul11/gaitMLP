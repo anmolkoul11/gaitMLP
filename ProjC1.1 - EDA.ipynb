{
 "cells": [
  {
   "cell_type": "markdown",
   "metadata": {
    "nbgrader": {
     "grade": false,
     "locked": true,
     "solution": false
    }
   },
   "source": [
    "## Data Exploration\n",
    "\n",
    "This script illustrates how to load, visualize the data and perform some basic exploratory data analysis."
   ]
  },
  {
   "cell_type": "code",
   "execution_count": null,
   "metadata": {
    "nbgrader": {
     "grade": false,
     "locked": true,
     "solution": false
    }
   },
   "outputs": [],
   "source": [
    "import numpy as np\n",
    "import fncs_helper as fncs\n",
    "import matplotlib.pyplot as plt\n",
    "\n",
    "import warnings\n",
    "warnings.filterwarnings(\"ignore\")\n",
    "\n",
    "import json\n",
    "with open('Settings.json') as f:\n",
    "    d = json.load(f)\n",
    "    dataFolder = d['dataFolder']"
   ]
  },
  {
   "cell_type": "markdown",
   "metadata": {
    "nbgrader": {
     "grade": false,
     "locked": true,
     "solution": false
    }
   },
   "source": [
    "### Analyzing Data over a Single Trial\n",
    "\n",
    "Loading the data."
   ]
  },
  {
   "cell_type": "code",
   "execution_count": null,
   "metadata": {
    "nbgrader": {
     "grade": false,
     "locked": true,
     "solution": false
    }
   },
   "outputs": [],
   "source": [
    "xt, xv, yt, yv = fncs.loadTrial_Train(dataFolder+'Train/',id=1)"
   ]
  },
  {
   "cell_type": "markdown",
   "metadata": {
    "nbgrader": {
     "grade": false,
     "locked": true,
     "solution": false
    }
   },
   "source": [
    "Plotting the measurements and labels."
   ]
  },
  {
   "cell_type": "code",
   "execution_count": null,
   "metadata": {
    "nbgrader": {
     "grade": false,
     "locked": true,
     "solution": false
    }
   },
   "outputs": [],
   "source": [
    "# Specifying a window of time for display\n",
    "t_min = 90\n",
    "t_max = 150\n",
    "\n",
    "# Plotting the data\n",
    "fig, (ax1,ax2) = plt.subplots(2,1)\n",
    "fig.set_size_inches(10,6)\n",
    "\n",
    "ax1.plot(xt,xv[:,0:3])\n",
    "ax1.axis([t_min,t_max,-40,40])\n",
    "ax1.set_ylabel('Measurements')\n",
    "ax1.legend(['acc-x','acc-y','acc-z'])\n",
    "\n",
    "ax2.plot(yt,yv)\n",
    "ax2.axis([t_min,t_max,-0.5,3.5])\n",
    "ax2.set_xlabel('time (sec)')\n",
    "ax2.set_ylabel('Labels')\n",
    "\n",
    "plt.show()\n",
    "\n",
    "# Displaying the labels\n",
    "print('Labels include the following Locomotion Modes:')\n",
    "print('(0) Standing / Walking Hard Terrain')\n",
    "print('(1) Climbing Down Stairs')\n",
    "print('(2) Climbing Up Stairs')\n",
    "print('(3) Walking Soft Terrain')\n"
   ]
  },
  {
   "cell_type": "markdown",
   "metadata": {
    "nbgrader": {
     "grade": false,
     "locked": true,
     "solution": false
    }
   },
   "source": [
    "Compute the mean and standard deviation of the period between samples to make sure that they match with the description."
   ]
  },
  {
   "cell_type": "code",
   "execution_count": null,
   "metadata": {
    "nbgrader": {
     "grade": false,
     "locked": true,
     "solution": false
    }
   },
   "outputs": [],
   "source": [
    "dxt = np.diff(xt)\n",
    "print('Timestamps for x: Mean = {:5.3f} seconds | Std = {:5.3f}'.format(np.mean(dxt),np.std(dxt)))\n",
    "\n",
    "dyt = np.diff(yt)\n",
    "print('Timestamps for y: Mean = {:5.3f} seconds | Std = {:5.3f}'.format(np.mean(dyt),np.std(dyt)))"
   ]
  },
  {
   "cell_type": "markdown",
   "metadata": {
    "nbgrader": {
     "grade": false,
     "locked": true,
     "solution": false
    }
   },
   "source": [
    "Displaying the histogram of labels. Not that this distribution is imbalanced. You may need to consider techniques for handling this during your model selection."
   ]
  },
  {
   "cell_type": "code",
   "execution_count": null,
   "metadata": {},
   "outputs": [],
   "source": [
    "# 'yCounts' should be a list with 4 entries containing the counts for each class from 'yv'.\n",
    "yCounts = []\n",
    "\n",
    "yCounts, bin_edges = np.histogram(yv, bins=[-0.5,0.5,1.5,2.5,3.5])"
   ]
  },
  {
   "cell_type": "code",
   "execution_count": null,
   "metadata": {
    "nbgrader": {
     "grade": false,
     "locked": true,
     "solution": false
    }
   },
   "outputs": [],
   "source": [
    "# Plottinng the counts\n",
    "plt.bar([0,1,2,3],yCounts)\n",
    "plt.xticks([0,1,2,3])\n",
    "plt.xlabel('Labels')\n",
    "plt.title('Histogram of Labels')\n",
    "plt.show()"
   ]
  },
  {
   "cell_type": "markdown",
   "metadata": {
    "nbgrader": {
     "grade": false,
     "locked": true,
     "solution": false
    }
   },
   "source": [
    "Extracting some hand-crafted features and displaying a correlogram of these values."
   ]
  },
  {
   "cell_type": "code",
   "execution_count": null,
   "metadata": {
    "nbgrader": {
     "grade": false,
     "locked": true,
     "solution": false
    }
   },
   "outputs": [],
   "source": [
    "# Specifying some parameters for the feature extraction\n",
    "timeStart = np.min(xt) # Starting time for the first window\n",
    "timeEnd = np.max(xt) # The windows cannot go beyond the end time\n",
    "timeStep = 1 # The step size used to shift the windows\n",
    "winSz = 2 # The size of a window for feature extraction\n",
    "\n",
    "# Getting the features\n",
    "tList,featList = fncs.extractFeat(xt,xv,winSz,timeStart,timeEnd,timeStep)\n",
    "\n",
    "# Displaying a correlogram\n",
    "import seaborn as sns\n",
    "import pandas as pd\n",
    "sns.pairplot(pd.DataFrame(featList))\n",
    "plt.show()\n"
   ]
  },
  {
   "cell_type": "markdown",
   "metadata": {
    "nbgrader": {
     "grade": false,
     "locked": true,
     "solution": false
    }
   },
   "source": [
    "It can be observed that some of the features seem to be failry correlated. This could be used to for feature selection if needed. Also, the range of the values have a different of a factor over 10 in some cases, which may indicate the need for feature normalization."
   ]
  },
  {
   "cell_type": "markdown",
   "metadata": {
    "nbgrader": {
     "grade": false,
     "locked": true,
     "solution": false
    }
   },
   "source": [
    "### Analyzing Data over Entire Dataset\n",
    "\n",
    "We extract summaries for each one of the features."
   ]
  },
  {
   "cell_type": "code",
   "execution_count": null,
   "metadata": {
    "nbgrader": {
     "grade": false,
     "locked": true,
     "solution": false
    }
   },
   "outputs": [],
   "source": [
    "# Specifying some parameters for the feature extraction\n",
    "timeStep = 1\n",
    "winSz = 2\n",
    "\n",
    "for id in range(25):\n",
    "    # Loading data and extracting features\n",
    "    xt, xv, yt, yv = fncs.loadTrial_Train(dataFolder+'Train/',id=id+1)\n",
    "    timeStart = np.min(xt)\n",
    "    timeEnd = np.max(xt)\n",
    "    tList,featList = fncs.extractFeat(xt,xv,winSz,timeStart,timeEnd,timeStep)\n",
    "\n",
    "    # Extracting some summaries\n",
    "    yCounts, bin_edges = np.histogram(yv, bins=[-0.5,0.5,1.5,2.5,3.5])\n",
    "\n",
    "    # Storing values for analysis\n",
    "    if(id==0):\n",
    "        ySummary = np.array([yCounts/sum(yCounts)])\n",
    "        featSummary = np.array([np.mean(featList,axis=0)])\n",
    "    else:\n",
    "        ySummary = np.concatenate((ySummary,np.array([yCounts/sum(yCounts)])),axis=0)\n",
    "        featSummary = np.concatenate((featSummary,np.array([np.mean(featList,axis=0)])),axis=0)\n",
    "\n"
   ]
  },
  {
   "cell_type": "markdown",
   "metadata": {
    "nbgrader": {
     "grade": false,
     "locked": true,
     "solution": false
    }
   },
   "source": [
    "Plotting the distribution of the per-trial frequencies of labels."
   ]
  },
  {
   "cell_type": "code",
   "execution_count": null,
   "metadata": {
    "nbgrader": {
     "grade": false,
     "locked": true,
     "solution": false
    }
   },
   "outputs": [],
   "source": [
    "plt.boxplot(ySummary)\n",
    "plt.xticks([1,2,3,4],[0,1,2,3])\n",
    "plt.show()"
   ]
  },
  {
   "cell_type": "markdown",
   "metadata": {
    "nbgrader": {
     "grade": false,
     "locked": true,
     "solution": false
    }
   },
   "source": [
    "Plotting the distribution of the average (over trial) features."
   ]
  },
  {
   "cell_type": "code",
   "execution_count": null,
   "metadata": {
    "nbgrader": {
     "grade": false,
     "locked": true,
     "solution": false
    }
   },
   "outputs": [],
   "source": [
    "# We are normalizing over\n",
    "\n",
    "plt.boxplot(featSummary)\n",
    "plt.show()"
   ]
  },
  {
   "cell_type": "markdown",
   "metadata": {
    "nbgrader": {
     "grade": false,
     "locked": true,
     "solution": false
    }
   },
   "source": [
    "From these plots, we observe that there is some variability on the distributions but overall consistent trends."
   ]
  }
 ],
 "metadata": {
  "kernelspec": {
   "display_name": "Python 3",
   "language": "python",
   "name": "python3"
  },
  "language_info": {
   "codemirror_mode": {
    "name": "ipython",
    "version": 3
   },
   "file_extension": ".py",
   "mimetype": "text/x-python",
   "name": "python",
   "nbconvert_exporter": "python",
   "pygments_lexer": "ipython3",
   "version": "3.11.9"
  }
 },
 "nbformat": 4,
 "nbformat_minor": 2
}
